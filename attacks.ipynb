{
 "cells": [
  {
   "attachments": {},
   "cell_type": "markdown",
   "metadata": {},
   "source": [
    "#### Bert Attack from textattack"
   ]
  },
  {
   "cell_type": "code",
   "execution_count": null,
   "metadata": {},
   "outputs": [],
   "source": [
    "# Use the Bert-attack from textattack based on https://textattack.readthedocs.io/en/latest/3recipes/attack_recipes.html#bert-attack\n",
    "\n",
    "bert_attack = textattack.attack_recipes.bert_attack_li_2020.BERTAttackLi2020.build(model_wrapper) # perform the attack\n",
    "\n",
    "# Run attack with defined dataset\n",
    "temp = list(validation_data.itertuples(index=False, name=None))\n",
    "dataset = textattack.datasets.Dataset(temp)\n",
    "\n",
    "# Attack 20 samples with CSV logging and checkpoint saved every 5 interval\n",
    "attack_args = textattack.AttackArgs(num_examples=20, log_to_csv=\"log.csv\", checkpoint_interval=5, checkpoint_dir=\"checkpoints\", disable_stdout=True)\n",
    "bert_attacker = textattack.Attacker(bert_attack, dataset, attack_args)\n",
    "bert_attacker.attack_dataset()\n"
   ]
  },
  {
   "attachments": {},
   "cell_type": "markdown",
   "metadata": {},
   "source": [
    "#### Bae Attack from testattack"
   ]
  },
  {
   "cell_type": "code",
   "execution_count": null,
   "metadata": {},
   "outputs": [],
   "source": [
    "# Use the Bert-attack from textattack based on https://textattack.readthedocs.io/en/latest/3recipes/attack_recipes.html#bert-attack\n",
    "\n",
    "bae_attack = textattack.attack_recipes.bae_garg_2019.BAEGarg2019.build(model_wrapper) # perform the attack\n",
    "# Run attack with defined dataset\n",
    "temp = list(validation_data.itertuples(index=False, name=None))\n",
    "dataset = textattack.datasets.Dataset(temp)\n",
    "\n",
    "# Attack 20 samples with CSV logging and checkpoint saved every 5 interval\n",
    "attack_args = textattack.AttackArgs(num_examples=20, log_to_csv=\"log.csv\", checkpoint_interval=5, checkpoint_dir=\"checkpoints\", disable_stdout=True)\n",
    "bae_attacker = textattack.Attacker(bae_attack, dataset, attack_args)\n",
    "bae_attacker.attack_dataset()"
   ]
  },
  {
   "attachments": {},
   "cell_type": "markdown",
   "metadata": {},
   "source": [
    "#### TextFooler Attack from textattack\n",
    "A Strong Baseline for Natural Language Attack on Text Classification and Entailment"
   ]
  },
  {
   "cell_type": "code",
   "execution_count": null,
   "metadata": {},
   "outputs": [],
   "source": [
    "# Use the Bert-attack from textattack based on https://textattack.readthedocs.io/en/latest/3recipes/attack_recipes.html#bert-attack\n",
    "\n",
    "textFooler_attack = textattack.attack_recipes.textfooler_jin_2019.TextFoolerJin2019.build(model_wrapper) # perform the attack\n",
    "\n",
    "# Run attack with defined dataset\n",
    "temp = list(validation_data.itertuples(index=False, name=None))\n",
    "dataset = textattack.datasets.Dataset(temp)\n",
    "\n",
    "# Attack 20 samples with CSV logging and checkpoint saved every 5 interval\n",
    "attack_args = textattack.AttackArgs(num_examples=20, log_to_csv=\"log.csv\", checkpoint_interval=5, checkpoint_dir=\"checkpoints\", disable_stdout=True)\n",
    "textFooler_attacker = textattack.Attacker(textFooler_attack, dataset, attack_args)\n",
    "textFooler_attacker.attack_dataset()"
   ]
  },
  {
   "cell_type": "code",
   "execution_count": null,
   "metadata": {},
   "outputs": [],
   "source": []
  }
 ],
 "metadata": {
  "kernelspec": {
   "display_name": "Python 3",
   "language": "python",
   "name": "python3"
  },
  "language_info": {
   "name": "python",
   "version": "3.11.5 (main, Aug 24 2023, 15:09:32) [Clang 14.0.0 (clang-1400.0.29.202)]"
  },
  "orig_nbformat": 4,
  "vscode": {
   "interpreter": {
    "hash": "b0fa6594d8f4cbf19f97940f81e996739fb7646882a419484c72d19e05852a7e"
   }
  }
 },
 "nbformat": 4,
 "nbformat_minor": 2
}
